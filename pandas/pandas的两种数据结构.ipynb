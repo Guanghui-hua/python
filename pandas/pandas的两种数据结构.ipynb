{
 "metadata": {
  "language_info": {
   "codemirror_mode": {
    "name": "ipython",
    "version": 3
   },
   "file_extension": ".py",
   "mimetype": "text/x-python",
   "name": "python",
   "nbconvert_exporter": "python",
   "pygments_lexer": "ipython3",
   "version": "3.7.0-final"
  },
  "orig_nbformat": 2,
  "kernelspec": {
   "name": "python3",
   "display_name": "Python 3",
   "language": "python"
  }
 },
 "nbformat": 4,
 "nbformat_minor": 2,
 "cells": [
  {
   "cell_type": "code",
   "execution_count": 1,
   "metadata": {},
   "outputs": [],
   "source": [
    "#pandas有两种常用的数据结构 Series&DataFrame\n",
    "import pandas as pd\n",
    "import numpy as np"
   ]
  },
  {
   "cell_type": "code",
   "execution_count": 34,
   "metadata": {},
   "outputs": [
    {
     "output_type": "execute_result",
     "data": {
      "text/plain": [
       "0    4\n",
       "1    7\n",
       "2   -5\n",
       "3    3\n",
       "dtype: int64"
      ]
     },
     "metadata": {},
     "execution_count": 34
    }
   ],
   "source": [
    "obj=pd.Series([4,7,-5,3])\n",
    "obj"
   ]
  },
  {
   "cell_type": "code",
   "execution_count": 3,
   "metadata": {},
   "outputs": [
    {
     "output_type": "stream",
     "name": "stdout",
     "text": [
      "[ 4  7 -5  3]\nRangeIndex(start=0, stop=4, step=1)\n"
     ]
    }
   ],
   "source": [
    "print(obj.values)\n",
    "print(obj.index)"
   ]
  },
  {
   "cell_type": "code",
   "execution_count": 5,
   "metadata": {},
   "outputs": [
    {
     "output_type": "stream",
     "name": "stdout",
     "text": [
      "d    4\nb    7\na   -5\nc    3\ndtype: int64\nIndex(['d', 'b', 'a', 'c'], dtype='object')\n"
     ]
    }
   ],
   "source": [
    "obj_1=pd.Series([4,7,-5,3],index=['d','b','a','c'])\n",
    "print(obj_1)\n",
    "print(obj_1.index)"
   ]
  },
  {
   "cell_type": "code",
   "execution_count": 7,
   "metadata": {},
   "outputs": [
    {
     "output_type": "stream",
     "name": "stdout",
     "text": [
      "-5\n4\nc    3\na   -5\nd    4\ndtype: int64\n"
     ]
    }
   ],
   "source": [
    "print(obj_1['a'])\n",
    "print(obj_1['d'])\n",
    "print(obj_1[['c','a','d']])  #['c', 'a', 'd']包含的不是数字而是字符串，作为索引列表。"
   ]
  },
  {
   "cell_type": "code",
   "execution_count": 12,
   "metadata": {},
   "outputs": [
    {
     "output_type": "stream",
     "name": "stdout",
     "text": [
      "d    4\nb    7\nc    3\ndtype: int64\nd     8\nb    14\na   -10\nc     6\ndtype: int64\nd      54.598150\nb    1096.633158\na       0.006738\nc      20.085537\ndtype: float64\n"
     ]
    }
   ],
   "source": [
    "print(obj_1[obj_1>2])\n",
    "print(obj_1*2)\n",
    "print(np.exp(obj_1))"
   ]
  },
  {
   "cell_type": "code",
   "execution_count": 13,
   "metadata": {},
   "outputs": [
    {
     "output_type": "stream",
     "name": "stdout",
     "text": [
      "True\nFalse\n"
     ]
    }
   ],
   "source": [
    "print('b' in obj_1)\n",
    "print('e' in obj_1)"
   ]
  },
  {
   "cell_type": "code",
   "execution_count": 14,
   "metadata": {},
   "outputs": [
    {
     "output_type": "stream",
     "name": "stdout",
     "text": [
      "Ohil      35000\nTexas     71000\nOregon    16000\nUtan       5000\ndtype: int64\n"
     ]
    }
   ],
   "source": [
    "#可以用字典生成一个Series\n",
    "sdata={'Ohil':35000,'Texas':71000,'Oregon':16000,'Utan':5000}\n",
    "obj_3=pd.Series(sdata)\n",
    "print(obj_3)"
   ]
  },
  {
   "cell_type": "code",
   "execution_count": 16,
   "metadata": {},
   "outputs": [
    {
     "output_type": "stream",
     "name": "stdout",
     "text": [
      "California        NaN\nOhil          35000.0\nOregon        16000.0\nTexas         71000.0\ndtype: float64\n"
     ]
    }
   ],
   "source": [
    "#利用Series来对字典由键找值\n",
    "states=['California','Ohil','Oregon','Texas']   ###由于字典中没有'California',所以其对应的值是NaN\n",
    "obj_4=pd.Series(sdata,index=states)\n",
    "print(obj_4)"
   ]
  },
  {
   "cell_type": "code",
   "execution_count": 22,
   "metadata": {},
   "outputs": [
    {
     "output_type": "stream",
     "name": "stdout",
     "text": [
      "California     True\nOhil          False\nOregon        False\nTexas         False\ndtype: bool \n\n\n\nCalifornia    False\nOhil           True\nOregon         True\nTexas          True\ndtype: bool\n"
     ]
    }
   ],
   "source": [
    "#pandas中使用isnull()和notnull()函数来检查是否缺失数据\n",
    "print(pd.isnull(obj_4),'\\n'*3)\n",
    "print(pd.notnull(obj_4))"
   ]
  },
  {
   "cell_type": "code",
   "execution_count": 24,
   "metadata": {},
   "outputs": [
    {
     "output_type": "stream",
     "name": "stdout",
     "text": [
      "Ohil      35000\nTexas     71000\nOregon    16000\nUtan       5000\ndtype: int64 \n\n\nCalifornia        NaN\nOhil          35000.0\nOregon        16000.0\nTexas         71000.0\ndtype: float64 \n\n\nCalifornia         NaN\nOhil           70000.0\nOregon         32000.0\nTexas         142000.0\nUtan               NaN\ndtype: float64\n"
     ]
    }
   ],
   "source": [
    "#Series的自动对齐索引的特性\n",
    "print(obj_3,'\\n'*2)\n",
    "print(obj_4,'\\n'*2)\n",
    "print(obj_3+obj_4)"
   ]
  },
  {
   "cell_type": "code",
   "execution_count": 30,
   "metadata": {},
   "outputs": [
    {
     "output_type": "stream",
     "name": "stdout",
     "text": [
      "state\nCalifornia        NaN\nOhil          35000.0\nOregon        16000.0\nTexas         71000.0\nName: population, dtype: float64\n"
     ]
    }
   ],
   "source": [
    "#Series的name属性\n",
    "obj_4.name='population'\n",
    "obj_4.index.name='state'\n",
    "print(obj_4)\n"
   ]
  },
  {
   "cell_type": "code",
   "execution_count": 35,
   "metadata": {},
   "outputs": [
    {
     "output_type": "stream",
     "name": "stdout",
     "text": [
      "0    4\n1    7\n2   -5\n3    3\ndtype: int64 \n\nBob      4\nSteve    7\nJeff    -5\nRyan     3\ndtype: int64\n"
     ]
    }
   ],
   "source": [
    "#Series的索引可以通过按位置赋值的方式进行改变\n",
    "print(obj,'\\n')\n",
    "obj.index=['Bob','Steve','Jeff','Ryan']\n",
    "print(obj)"
   ]
  },
  {
   "cell_type": "code",
   "execution_count": null,
   "metadata": {},
   "outputs": [],
   "source": [
    "#DataFrame既有行索引也有列索引，它可以被视为一个共享相同索引的Series的字典。在DataFrame中，数据被存储为一个以上的二维块，而不是列表、字典或其他一维数组的集合。"
   ]
  },
  {
   "cell_type": "code",
   "execution_count": 39,
   "metadata": {},
   "outputs": [
    {
     "output_type": "stream",
     "name": "stdout",
     "text": [
      "    state  year  pop\n0    Ohio  2000  1.5\n1    Ohio  2001  1.7\n2    Ohio  2002  3.6\n3  Nevada  2001  2.4\n4  Nevada  2002  2.9\n5  Nevada  2003  3.2 \n\n\n<bound method NDFrame.head of     state  year  pop\n0    Ohio  2000  1.5\n1    Ohio  2001  1.7\n2    Ohio  2002  3.6\n3  Nevada  2001  2.4\n4  Nevada  2002  2.9\n5  Nevada  2003  3.2>\n"
     ]
    }
   ],
   "source": [
    "data={'state':['Ohio','Ohio','Ohio','Nevada','Nevada','Nevada'],'year':[2000,2001,2002,2001,2002,2003],'pop':[1.5,1.7,3.6,2.4,2.9,3.2]}\n",
    "frame=pd.DataFrame(data)\n",
    "print(frame,'\\n'*2)\n",
    "print(frame.head)"
   ]
  },
  {
   "cell_type": "code",
   "execution_count": 46,
   "metadata": {},
   "outputs": [
    {
     "output_type": "stream",
     "name": "stdout",
     "text": [
      "       year   state  pop debt\none    2000    Ohio  1.5  NaN\ntwo    2001    Ohio  1.7  NaN\nthree  2002    Ohio  3.6  NaN\nfour   2001  Nevada  2.4  NaN\nfive   2002  Nevada  2.9  NaN\nsix    2003  Nevada  3.2  NaN \n\n\nIndex(['year', 'state', 'pop', 'debt'], dtype='object') \n\n\none        Ohio\ntwo        Ohio\nthree      Ohio\nfour     Nevada\nfive     Nevada\nsix      Nevada\nName: state, dtype: object \n\n\none      2000\ntwo      2001\nthree    2002\nfour     2001\nfive     2002\nsix      2003\nName: year, dtype: int64\n"
     ]
    }
   ],
   "source": [
    "frame_1=pd.DataFrame(data,columns=['year','state','pop','debt'],index=['one','two','three','four','five','six'])\n",
    "print(frame_1,'\\n'*2)\n",
    "print(frame_1.columns,'\\n'*2)\n",
    "print(frame_1['state'],'\\n'*2)\n",
    "print(frame_1.year)"
   ]
  },
  {
   "cell_type": "code",
   "execution_count": 49,
   "metadata": {},
   "outputs": [
    {
     "output_type": "stream",
     "name": "stdout",
     "text": [
      "one      2000\ntwo      2001\nthree    2002\nfour     2001\nfive     2002\nsix      2003\nName: year, dtype: int64 \n\n\none      2000\ntwo      2001\nthree    2002\nfour     2001\nfive     2002\nsix      2003\nName: year, dtype: int64\n"
     ]
    }
   ],
   "source": [
    "#\n",
    "print(frame_1.year,'\\n'*2)\n",
    "print(frame_1['year'])"
   ]
  },
  {
   "cell_type": "code",
   "execution_count": 52,
   "metadata": {},
   "outputs": [
    {
     "output_type": "execute_result",
     "data": {
      "text/plain": [
       "year     2002\n",
       "state    Ohio\n",
       "pop       3.6\n",
       "debt      NaN\n",
       "Name: three, dtype: object"
      ]
     },
     "metadata": {},
     "execution_count": 52
    }
   ],
   "source": [
    "#行也可以通过位置或特殊属性loc进行选取\n",
    "frame_1.loc['three']"
   ]
  },
  {
   "cell_type": "code",
   "execution_count": 56,
   "metadata": {},
   "outputs": [
    {
     "output_type": "stream",
     "name": "stdout",
     "text": [
      "       year   state  pop  debt\none    2000    Ohio  1.5  16.5\ntwo    2001    Ohio  1.7  16.5\nthree  2002    Ohio  3.6  16.5\nfour   2001  Nevada  2.4  16.5\nfive   2002  Nevada  2.9  16.5\nsix    2003  Nevada  3.2  16.5 \n\n       year   state  pop  debt\none    2000    Ohio  1.5   0.0\ntwo    2001    Ohio  1.7   1.0\nthree  2002    Ohio  3.6   2.0\nfour   2001  Nevada  2.4   3.0\nfive   2002  Nevada  2.9   4.0\nsix    2003  Nevada  3.2   5.0\n"
     ]
    }
   ],
   "source": [
    "#列的引用是可以修改的。\n",
    "frame_1['debt']=16.5\n",
    "print(frame_1,'\\n')\n",
    "frame_1['debt']=np.arange(6.)\n",
    "print(frame_1)"
   ]
  },
  {
   "cell_type": "code",
   "execution_count": 65,
   "metadata": {},
   "outputs": [
    {
     "output_type": "execute_result",
     "data": {
      "text/plain": [
       "       year   state  pop  debt\n",
       "one    2000    Ohio  1.5   NaN\n",
       "two    2001    Ohio  1.7  -1.2\n",
       "three  2002    Ohio  3.6   NaN\n",
       "four   2001  Nevada  2.4  -1.5\n",
       "five   2002  Nevada  2.9  -1.7\n",
       "six    2003  Nevada  3.2   NaN"
      ],
      "text/html": "<div>\n<style scoped>\n    .dataframe tbody tr th:only-of-type {\n        vertical-align: middle;\n    }\n\n    .dataframe tbody tr th {\n        vertical-align: top;\n    }\n\n    .dataframe thead th {\n        text-align: right;\n    }\n</style>\n<table border=\"1\" class=\"dataframe\">\n  <thead>\n    <tr style=\"text-align: right;\">\n      <th></th>\n      <th>year</th>\n      <th>state</th>\n      <th>pop</th>\n      <th>debt</th>\n    </tr>\n  </thead>\n  <tbody>\n    <tr>\n      <th>one</th>\n      <td>2000</td>\n      <td>Ohio</td>\n      <td>1.5</td>\n      <td>NaN</td>\n    </tr>\n    <tr>\n      <th>two</th>\n      <td>2001</td>\n      <td>Ohio</td>\n      <td>1.7</td>\n      <td>-1.2</td>\n    </tr>\n    <tr>\n      <th>three</th>\n      <td>2002</td>\n      <td>Ohio</td>\n      <td>3.6</td>\n      <td>NaN</td>\n    </tr>\n    <tr>\n      <th>four</th>\n      <td>2001</td>\n      <td>Nevada</td>\n      <td>2.4</td>\n      <td>-1.5</td>\n    </tr>\n    <tr>\n      <th>five</th>\n      <td>2002</td>\n      <td>Nevada</td>\n      <td>2.9</td>\n      <td>-1.7</td>\n    </tr>\n    <tr>\n      <th>six</th>\n      <td>2003</td>\n      <td>Nevada</td>\n      <td>3.2</td>\n      <td>NaN</td>\n    </tr>\n  </tbody>\n</table>\n</div>"
     },
     "metadata": {},
     "execution_count": 65
    }
   ],
   "source": [
    "#如果你将Series赋值给一列时，Series的索引将会按照DataFrame的索引重新排列，并在空缺的地方填充缺失值：\n",
    "val=pd.Series([-1.2,-1.5,-1.7],index=['two','four','five'])\n",
    "frame_1['debt']=val\n",
    "frame_1\n"
   ]
  },
  {
   "cell_type": "code",
   "execution_count": 66,
   "metadata": {},
   "outputs": [
    {
     "output_type": "execute_result",
     "data": {
      "text/plain": [
       "        one   two three    four    five     six\n",
       "year   2000  2001  2002    2001    2002    2003\n",
       "state  Ohio  Ohio  Ohio  Nevada  Nevada  Nevada\n",
       "pop     1.5   1.7   3.6     2.4     2.9     3.2\n",
       "debt    NaN  -1.2   NaN    -1.5    -1.7     NaN"
      ],
      "text/html": "<div>\n<style scoped>\n    .dataframe tbody tr th:only-of-type {\n        vertical-align: middle;\n    }\n\n    .dataframe tbody tr th {\n        vertical-align: top;\n    }\n\n    .dataframe thead th {\n        text-align: right;\n    }\n</style>\n<table border=\"1\" class=\"dataframe\">\n  <thead>\n    <tr style=\"text-align: right;\">\n      <th></th>\n      <th>one</th>\n      <th>two</th>\n      <th>three</th>\n      <th>four</th>\n      <th>five</th>\n      <th>six</th>\n    </tr>\n  </thead>\n  <tbody>\n    <tr>\n      <th>year</th>\n      <td>2000</td>\n      <td>2001</td>\n      <td>2002</td>\n      <td>2001</td>\n      <td>2002</td>\n      <td>2003</td>\n    </tr>\n    <tr>\n      <th>state</th>\n      <td>Ohio</td>\n      <td>Ohio</td>\n      <td>Ohio</td>\n      <td>Nevada</td>\n      <td>Nevada</td>\n      <td>Nevada</td>\n    </tr>\n    <tr>\n      <th>pop</th>\n      <td>1.5</td>\n      <td>1.7</td>\n      <td>3.6</td>\n      <td>2.4</td>\n      <td>2.9</td>\n      <td>3.2</td>\n    </tr>\n    <tr>\n      <th>debt</th>\n      <td>NaN</td>\n      <td>-1.2</td>\n      <td>NaN</td>\n      <td>-1.5</td>\n      <td>-1.7</td>\n      <td>NaN</td>\n    </tr>\n  </tbody>\n</table>\n</div>"
     },
     "metadata": {},
     "execution_count": 66
    }
   ],
   "source": [
    "#你可以将使用类似NumPy的语法对DataFrame进行转置操作（调换行和列）：\n",
    "frame_1.T"
   ]
  },
  {
   "cell_type": "code",
   "execution_count": 84,
   "metadata": {},
   "outputs": [
    {
     "output_type": "stream",
     "name": "stdout",
     "text": [
      "       year   state  pop  debt  eastern\none    2000    Ohio  1.5   NaN     True\ntwo    2001    Ohio  1.7  -1.2     True\nthree  2002    Ohio  3.6   NaN     True\nfour   2001  Nevada  2.4  -1.5    False\nfive   2002  Nevada  2.9  -1.7    False\nsix    2003  Nevada  3.2   NaN    False\n"
     ]
    }
   ],
   "source": [
    "frame_1['eastern']=frame_1.state=='Ohio'\n",
    "print(frame_1)"
   ]
  },
  {
   "cell_type": "code",
   "execution_count": 76,
   "metadata": {},
   "outputs": [
    {
     "output_type": "stream",
     "name": "stdout",
     "text": [
      "[0. 1. 2. 3. 4. 5.] \n\n       year   state  pop  debt  eastern\none    2000    Ohio  1.5   NaN     True\ntwo    2001    Ohio  1.7  -1.2     True\nthree  2002    Ohio  3.6   NaN     True\nfour   2001  Nevada  2.4  -1.5    False\nfive   2002  Nevada  2.9  -1.7    False\nsix    2003  Nevada  3.2   NaN    False\n"
     ]
    }
   ],
   "source": [
    "#注意frame_1.eastern的语法无法创建新的列。\n",
    "frame_1.western=np.arange(6.)\n",
    "print(frame_1.western,'\\n')\n",
    "print(frame_1)"
   ]
  },
  {
   "cell_type": "code",
   "execution_count": 85,
   "metadata": {},
   "outputs": [
    {
     "output_type": "stream",
     "name": "stdout",
     "text": [
      "       year   state  pop  debt\none    2000    Ohio  1.5   NaN\ntwo    2001    Ohio  1.7  -1.2\nthree  2002    Ohio  3.6   NaN\nfour   2001  Nevada  2.4  -1.5\nfive   2002  Nevada  2.9  -1.7\nsix    2003  Nevada  3.2   NaN\n"
     ]
    }
   ],
   "source": [
    "#del方法可以用于移除之前新建的列：\n",
    "....: del frame_1['eastern']\n",
    "....: print(frame_1)"
   ]
  },
  {
   "cell_type": "code",
   "execution_count": 87,
   "metadata": {},
   "outputs": [
    {
     "output_type": "stream",
     "name": "stdout",
     "text": [
      "Index(['a', 'b', 'c'], dtype='object') \n\nIndex(['b', 'c'], dtype='object')\n"
     ]
    }
   ],
   "source": [
    "#pandas中的索引对象是用于存储轴标签和其他元数据的（例如轴名称或标签）。在构造Series或DataFrame时，你所使用的任意数组或标签序列都可以在内部转换为索引对象：\n",
    "obj=pd.Series(range(3),index=['a','b','c'])\n",
    "index=obj.index\n",
    "print(index,'\\n')\n",
    "print(index[1:])"
   ]
  },
  {
   "cell_type": "code",
   "execution_count": 2,
   "metadata": {},
   "outputs": [
    {
     "output_type": "stream",
     "name": "stdout",
     "text": [
      "d    4.5\nb    7.2\na   -5.3\nc    3.6\ndtype: float64\n"
     ]
    }
   ],
   "source": [
    "obj=pd.Series([4.5,7.2,-5.3,3.6],index=['d','b','a','c'])\n",
    "print(obj)"
   ]
  },
  {
   "cell_type": "code",
   "execution_count": 4,
   "metadata": {},
   "outputs": [
    {
     "output_type": "stream",
     "name": "stdout",
     "text": [
      "a   -5.3\nb    7.2\nc    3.6\nd    4.5\ne    NaN\ndtype: float64\n"
     ]
    }
   ],
   "source": [
    "#Series调用reindex方法时，会将数据按照新的索引进行排列\n",
    "obj2=obj.reindex(['a','b','c','d','e'])\n",
    "print(obj2)"
   ]
  },
  {
   "cell_type": "code",
   "execution_count": 50,
   "metadata": {},
   "outputs": [
    {
     "output_type": "stream",
     "name": "stdout",
     "text": [
      "0      blue\n2    purple\n4    yellow\ndtype: object \n\n\n0      blue\n1      blue\n2    purple\n3    purple\n4    yellow\n5    yellow\ndtype: object \n\n0      blue\n2    purple\n4    yellow\ndtype: object\n"
     ]
    }
   ],
   "source": [
    "#对于顺序数据，比如时间序列，在重建索引时可能会需要进行插值或填值。method可选参数允许我们使用诸如ffill等方法在重建索引时插值，ffill方法会将值前向填充：\n",
    "obj3=pd.Series(['blue','purple','yellow'],index=[0,2,4])\n",
    "print(obj3,'\\n'*2)\n",
    "print(obj3.reindex(range(6),method='ffill'),'\\n')\n",
    "print(obj3)"
   ]
  },
  {
   "cell_type": "code",
   "execution_count": 12,
   "metadata": {},
   "outputs": [
    {
     "output_type": "stream",
     "name": "stdout",
     "text": [
      "   Ohio  Texas  California\na     0      1           2\nc     3      4           5\nd     6      7           8 \n\n   Ohio  Texas  California\na   0.0    1.0         2.0\nb   NaN    NaN         NaN\nc   3.0    4.0         5.0\nd   6.0    7.0         8.0\n"
     ]
    }
   ],
   "source": [
    "#展示如何创建一个新DataFrame\n",
    "frame=pd.DataFrame(np.arange(9).reshape((3,3)),index=['a','c','d'],columns=['Ohio','Texas','California'])\n",
    "print(frame,'\\n')\n",
    "#当仅传入一个序列时，结果中的行会重建索引\n",
    "frame2=frame.reindex(['a','b','c','d'])\n",
    "print(frame2)"
   ]
  },
  {
   "cell_type": "code",
   "execution_count": 14,
   "metadata": {},
   "outputs": [
    {
     "output_type": "stream",
     "name": "stdout",
     "text": [
      "   Texas  Utah  California\na      1   NaN           2\nc      4   NaN           5\nd      7   NaN           8\n"
     ]
    }
   ],
   "source": [
    "#关于reindex   列可以使用columns关键字重建索引：\n",
    "states=['Texas','Utah','California']\n",
    "print(frame.reindex(columns=states))"
   ]
  },
  {
   "cell_type": "code",
   "execution_count": 16,
   "metadata": {},
   "outputs": [
    {
     "output_type": "stream",
     "name": "stdout",
     "text": [
      "   Texas  Utah  California\na    1.0   NaN         2.0\nb    NaN   NaN         NaN\nc    4.0   NaN         5.0\nd    7.0   NaN         8.0\n"
     ]
    }
   ],
   "source": [
    "###可以使用loc进行更为简洁的标签索引\n",
    "print(frame.loc[['a','b','c','d'],states])"
   ]
  },
  {
   "cell_type": "code",
   "execution_count": 22,
   "metadata": {},
   "outputs": [
    {
     "output_type": "stream",
     "name": "stdout",
     "text": [
      "   Texas   b   c   d   e   f\na    1.0 NaN NaN NaN NaN NaN\nb    NaN NaN NaN NaN NaN NaN\nc    4.0 NaN NaN NaN NaN NaN\nd    7.0 NaN NaN NaN NaN NaN\n"
     ]
    }
   ],
   "source": [
    "print(frame.loc[['a','b','c','d'],['Texas','b','c','d','e','f']])"
   ]
  },
  {
   "cell_type": "code",
   "execution_count": 31,
   "metadata": {},
   "outputs": [
    {
     "output_type": "stream",
     "name": "stdout",
     "text": [
      "b    1.0\nc    2.0\nd    3.0\ne    4.0\ndtype: float64 \n\na    0.0\nd    3.0\ne    4.0\ndtype: float64\n"
     ]
    }
   ],
   "source": [
    "#如果你已经拥有索引数组或不含条目的列表，在轴向上删除一个或更多的条目就非常容易，但这样需要一些数据操作和集合逻辑，drop方法会返回一个含有指示值或轴向上删除值的新对象：\n",
    "obj=pd.Series(np.arange(5.),index=['a','b','c','d','e'])\n",
    "print(obj.drop('a'),'\\n')\n",
    "print(obj.drop(['b','c']))"
   ]
  },
  {
   "cell_type": "code",
   "execution_count": 58,
   "metadata": {},
   "outputs": [
    {
     "output_type": "stream",
     "name": "stdout",
     "text": [
      "   Ohio  Texas  California\na     0      1           2\nc     3      4           5\nd     6      7           8 \n\n"
     ]
    }
   ],
   "source": [
    "frame=frame.T\n",
    "print(frame,'\\n')\n",
    "frame=frame.reindex(columns=['one','two','three','four'],index=['Ohil','Colorado','Utah','New York'])\n"
   ]
  },
  {
   "cell_type": "code",
   "execution_count": 59,
   "metadata": {},
   "outputs": [
    {
     "output_type": "execute_result",
     "data": {
      "text/plain": [
       "          one  two  three  four\n",
       "Ohil      NaN  NaN    NaN   NaN\n",
       "Colorado  NaN  NaN    NaN   NaN\n",
       "Utah      NaN  NaN    NaN   NaN\n",
       "New York  NaN  NaN    NaN   NaN"
      ],
      "text/html": "<div>\n<style scoped>\n    .dataframe tbody tr th:only-of-type {\n        vertical-align: middle;\n    }\n\n    .dataframe tbody tr th {\n        vertical-align: top;\n    }\n\n    .dataframe thead th {\n        text-align: right;\n    }\n</style>\n<table border=\"1\" class=\"dataframe\">\n  <thead>\n    <tr style=\"text-align: right;\">\n      <th></th>\n      <th>one</th>\n      <th>two</th>\n      <th>three</th>\n      <th>four</th>\n    </tr>\n  </thead>\n  <tbody>\n    <tr>\n      <th>Ohil</th>\n      <td>NaN</td>\n      <td>NaN</td>\n      <td>NaN</td>\n      <td>NaN</td>\n    </tr>\n    <tr>\n      <th>Colorado</th>\n      <td>NaN</td>\n      <td>NaN</td>\n      <td>NaN</td>\n      <td>NaN</td>\n    </tr>\n    <tr>\n      <th>Utah</th>\n      <td>NaN</td>\n      <td>NaN</td>\n      <td>NaN</td>\n      <td>NaN</td>\n    </tr>\n    <tr>\n      <th>New York</th>\n      <td>NaN</td>\n      <td>NaN</td>\n      <td>NaN</td>\n      <td>NaN</td>\n    </tr>\n  </tbody>\n</table>\n</div>"
     },
     "metadata": {},
     "execution_count": 59
    }
   ],
   "source": [
    "frame"
   ]
  },
  {
   "cell_type": "code",
   "execution_count": 63,
   "metadata": {},
   "outputs": [
    {
     "output_type": "stream",
     "name": "stdout",
     "text": [
      "          one  two  three  four\nUtah      NaN  NaN    NaN   NaN\nNew York  NaN  NaN    NaN   NaN \n\n          one  three  four\nOhil      NaN    NaN   NaN\nColorado  NaN    NaN   NaN\nUtah      NaN    NaN   NaN\nNew York  NaN    NaN   NaN\n"
     ]
    }
   ],
   "source": [
    "#在调用drop时使用标签序列会根据行标签删除值（轴0），可以通过传递axis=1或axis='columns’来从列中删除值\n",
    "print(frame.drop(['Colorado','Ohil']),'\\n')\n",
    "print(frame.drop('two',axis=1))"
   ]
  },
  {
   "cell_type": "code",
   "execution_count": 71,
   "metadata": {},
   "outputs": [
    {
     "output_type": "stream",
     "name": "stdout",
     "text": [
      "          one  two  three  four\nColorado  NaN  NaN    NaN   NaN\nNew York  NaN  NaN    NaN   NaN\n          two  three  four\nColorado  NaN    NaN   NaN\nNew York  NaN    NaN   NaN\n"
     ]
    }
   ],
   "source": [
    "#很多函数，例如drop，会修改Series或DataFrame的尺寸或形状，这些方法直接操作原对象而不返回新对象,请注意inplace属性，它会清除被删除的数据\n",
    "frame.drop('Utah',inplace=True)\n",
    "print(frame)\n",
    "frame.drop('one',axis=1,inplace=True)\n",
    "print(frame)"
   ]
  },
  {
   "cell_type": "code",
   "execution_count": 78,
   "metadata": {},
   "outputs": [
    {
     "output_type": "stream",
     "name": "stdout",
     "text": [
      "a    0.0\nb    1.0\nd    3.0\ne    4.0\nc    2.0\ndtype: float64 \n\n1.0 \n\n1.0 \n\nd    3.0\ne    4.0\ndtype: float64 \n\nb    1.0\na    0.0\nd    3.0\ndtype: float64 \n\nb    1.0\ne    4.0\ndtype: float64 \n\na    0.0\nb    1.0\ndtype: float64\n"
     ]
    }
   ],
   "source": [
    "###5.2.3-->索引、选择与过滤\n",
    "#普通的Python切片中是不包含尾部的，Series的切片与之不同,使用这些方法设值时会修改Series相应的部分\n",
    "print(obj,'\\n')\n",
    "print(obj['b'],'\\n')\n",
    "print(obj[1],'\\n')\n",
    "print(obj[2:4],'\\n')\n",
    "print(obj[['b','a','d']],'\\n')\n",
    "print(obj[[1,3]],'\\n')\n",
    "print(obj[obj<2])"
   ]
  },
  {
   "cell_type": "code",
   "execution_count": 87,
   "metadata": {},
   "outputs": [
    {
     "output_type": "stream",
     "name": "stdout",
     "text": [
      "   one  two  three  four\na    0    1      2     3\nb    4    5      6     7\nc    8    9     10    11\nd   12   13     14    15 \n\na     1\nb     5\nc     9\nd    13\nName: two, dtype: int32 \n\n   three  one\na      2    0\nb      6    4\nc     10    8\nd     14   12 \n\n   one  two  three  four\na    0    1      2     3\nb    4    5      6     7 \n\n   one  two  three  four\nb    4    5      6     7\nc    8    9     10    11\nd   12   13     14    15\n"
     ]
    }
   ],
   "source": [
    "data=pd.DataFrame(np.arange(16).reshape(4,4),columns=['one','two','three','four'],index=['a','b','c','d'])\n",
    "print(data,'\\n')\n",
    "print(data['two'],'\\n')\n",
    "print(data[['three','one']],'\\n')\n",
    "print(data[:2],'\\n')\n",
    "print(data[data['three']>5])"
   ]
  },
  {
   "cell_type": "code",
   "execution_count": 92,
   "metadata": {},
   "outputs": [
    {
     "output_type": "stream",
     "name": "stdout",
     "text": [
      "   one  two  three  four\na    0    1      2     3\nb    4    5      6     7\nc    8    9     10    11\nd   12   13     14    15 \n\ntwo      1\nthree    2\nName: a, dtype: int32 \n\nfour    11\none      8\ntwo      9\nName: c, dtype: int32 \n\n   four  one  two\nb     7    4    5\nc    11    8    9\n"
     ]
    }
   ],
   "source": [
    "#5.2.3.1 使用loc和iloc选择数据  loc采用标签名选择数据，iloc使用索引选择数据\n",
    "print(data,'\\n')\n",
    "print(data.loc['a',['two','three']],'\\n')\n",
    "print(data.iloc[2,[3,0,1]],'\\n')\n",
    "print(data.iloc[[1,2],[3,0,1]])\n"
   ]
  },
  {
   "cell_type": "code",
   "execution_count": 94,
   "metadata": {},
   "outputs": [
    {
     "output_type": "execute_result",
     "data": {
      "text/plain": [
       "   one  two\n",
       "a    0    1\n",
       "b    4    5\n",
       "c    8    9"
      ],
      "text/html": "<div>\n<style scoped>\n    .dataframe tbody tr th:only-of-type {\n        vertical-align: middle;\n    }\n\n    .dataframe tbody tr th {\n        vertical-align: top;\n    }\n\n    .dataframe thead th {\n        text-align: right;\n    }\n</style>\n<table border=\"1\" class=\"dataframe\">\n  <thead>\n    <tr style=\"text-align: right;\">\n      <th></th>\n      <th>one</th>\n      <th>two</th>\n    </tr>\n  </thead>\n  <tbody>\n    <tr>\n      <th>a</th>\n      <td>0</td>\n      <td>1</td>\n    </tr>\n    <tr>\n      <th>b</th>\n      <td>4</td>\n      <td>5</td>\n    </tr>\n    <tr>\n      <th>c</th>\n      <td>8</td>\n      <td>9</td>\n    </tr>\n  </tbody>\n</table>\n</div>"
     },
     "metadata": {},
     "execution_count": 94
    }
   ],
   "source": [
    "#除了单个标签或标签列表之外，索引功能还可以用于切片\n",
    "data.loc[:'c',:'two']"
   ]
  },
  {
   "cell_type": "code",
   "execution_count": 95,
   "metadata": {},
   "outputs": [
    {
     "output_type": "execute_result",
     "data": {
      "text/plain": [
       "   one  two  three\n",
       "a    0    1      2\n",
       "b    4    5      6\n",
       "c    8    9     10\n",
       "d   12   13     14"
      ],
      "text/html": "<div>\n<style scoped>\n    .dataframe tbody tr th:only-of-type {\n        vertical-align: middle;\n    }\n\n    .dataframe tbody tr th {\n        vertical-align: top;\n    }\n\n    .dataframe thead th {\n        text-align: right;\n    }\n</style>\n<table border=\"1\" class=\"dataframe\">\n  <thead>\n    <tr style=\"text-align: right;\">\n      <th></th>\n      <th>one</th>\n      <th>two</th>\n      <th>three</th>\n    </tr>\n  </thead>\n  <tbody>\n    <tr>\n      <th>a</th>\n      <td>0</td>\n      <td>1</td>\n      <td>2</td>\n    </tr>\n    <tr>\n      <th>b</th>\n      <td>4</td>\n      <td>5</td>\n      <td>6</td>\n    </tr>\n    <tr>\n      <th>c</th>\n      <td>8</td>\n      <td>9</td>\n      <td>10</td>\n    </tr>\n    <tr>\n      <th>d</th>\n      <td>12</td>\n      <td>13</td>\n      <td>14</td>\n    </tr>\n  </tbody>\n</table>\n</div>"
     },
     "metadata": {},
     "execution_count": 95
    }
   ],
   "source": [
    "data.iloc[:,:3]"
   ]
  },
  {
   "cell_type": "code",
   "execution_count": 100,
   "metadata": {},
   "outputs": [
    {
     "output_type": "execute_result",
     "data": {
      "text/plain": [
       "   one  two\n",
       "a    0    1\n",
       "c    8    9"
      ],
      "text/html": "<div>\n<style scoped>\n    .dataframe tbody tr th:only-of-type {\n        vertical-align: middle;\n    }\n\n    .dataframe tbody tr th {\n        vertical-align: top;\n    }\n\n    .dataframe thead th {\n        text-align: right;\n    }\n</style>\n<table border=\"1\" class=\"dataframe\">\n  <thead>\n    <tr style=\"text-align: right;\">\n      <th></th>\n      <th>one</th>\n      <th>two</th>\n    </tr>\n  </thead>\n  <tbody>\n    <tr>\n      <th>a</th>\n      <td>0</td>\n      <td>1</td>\n    </tr>\n    <tr>\n      <th>c</th>\n      <td>8</td>\n      <td>9</td>\n    </tr>\n  </tbody>\n</table>\n</div>"
     },
     "metadata": {},
     "execution_count": 100
    }
   ],
   "source": [
    "#注意切片中::的用法，可以等差提取\n",
    "data.iloc[::2,:2]   "
   ]
  },
  {
   "cell_type": "code",
   "execution_count": 105,
   "metadata": {},
   "outputs": [
    {
     "output_type": "stream",
     "name": "stdout",
     "text": [
      "0    0\n1    1\n2    2\ndtype: int32 \n\n1\n"
     ]
    }
   ],
   "source": [
    "#在pandas对象使上用整数索引对新用户来说经常会产生歧义,因为$$$此时标签索引和位置索引是一样的$$$\n",
    "ser=pd.Series(np.arange(3))\n",
    "print(ser,'\\n')\n",
    "print(ser[1])"
   ]
  },
  {
   "cell_type": "code",
   "execution_count": 103,
   "metadata": {},
   "outputs": [
    {
     "output_type": "error",
     "ename": "KeyError",
     "evalue": "-1",
     "traceback": [
      "\u001b[1;31m---------------------------------------------------------------------------\u001b[0m",
      "\u001b[1;31mKeyError\u001b[0m                                  Traceback (most recent call last)",
      "\u001b[1;32m<ipython-input-103-15d271d51c57>\u001b[0m in \u001b[0;36m<module>\u001b[1;34m()\u001b[0m\n\u001b[1;32m----> 1\u001b[1;33m \u001b[0mprint\u001b[0m\u001b[1;33m(\u001b[0m\u001b[0mser\u001b[0m\u001b[1;33m[\u001b[0m\u001b[1;33m-\u001b[0m\u001b[1;36m1\u001b[0m\u001b[1;33m]\u001b[0m\u001b[1;33m)\u001b[0m\u001b[1;33m\u001b[0m\u001b[0m\n\u001b[0m",
      "\u001b[1;32m~\\Anaconda3\\lib\\site-packages\\pandas\\core\\series.py\u001b[0m in \u001b[0;36m__getitem__\u001b[1;34m(self, key)\u001b[0m\n\u001b[0;32m    765\u001b[0m         \u001b[0mkey\u001b[0m \u001b[1;33m=\u001b[0m \u001b[0mcom\u001b[0m\u001b[1;33m.\u001b[0m\u001b[0m_apply_if_callable\u001b[0m\u001b[1;33m(\u001b[0m\u001b[0mkey\u001b[0m\u001b[1;33m,\u001b[0m \u001b[0mself\u001b[0m\u001b[1;33m)\u001b[0m\u001b[1;33m\u001b[0m\u001b[0m\n\u001b[0;32m    766\u001b[0m         \u001b[1;32mtry\u001b[0m\u001b[1;33m:\u001b[0m\u001b[1;33m\u001b[0m\u001b[0m\n\u001b[1;32m--> 767\u001b[1;33m             \u001b[0mresult\u001b[0m \u001b[1;33m=\u001b[0m \u001b[0mself\u001b[0m\u001b[1;33m.\u001b[0m\u001b[0mindex\u001b[0m\u001b[1;33m.\u001b[0m\u001b[0mget_value\u001b[0m\u001b[1;33m(\u001b[0m\u001b[0mself\u001b[0m\u001b[1;33m,\u001b[0m \u001b[0mkey\u001b[0m\u001b[1;33m)\u001b[0m\u001b[1;33m\u001b[0m\u001b[0m\n\u001b[0m\u001b[0;32m    768\u001b[0m \u001b[1;33m\u001b[0m\u001b[0m\n\u001b[0;32m    769\u001b[0m             \u001b[1;32mif\u001b[0m \u001b[1;32mnot\u001b[0m \u001b[0mis_scalar\u001b[0m\u001b[1;33m(\u001b[0m\u001b[0mresult\u001b[0m\u001b[1;33m)\u001b[0m\u001b[1;33m:\u001b[0m\u001b[1;33m\u001b[0m\u001b[0m\n",
      "\u001b[1;32m~\\Anaconda3\\lib\\site-packages\\pandas\\core\\indexes\\base.py\u001b[0m in \u001b[0;36mget_value\u001b[1;34m(self, series, key)\u001b[0m\n\u001b[0;32m   3116\u001b[0m         \u001b[1;32mtry\u001b[0m\u001b[1;33m:\u001b[0m\u001b[1;33m\u001b[0m\u001b[0m\n\u001b[0;32m   3117\u001b[0m             return self._engine.get_value(s, k,\n\u001b[1;32m-> 3118\u001b[1;33m                                           tz=getattr(series.dtype, 'tz', None))\n\u001b[0m\u001b[0;32m   3119\u001b[0m         \u001b[1;32mexcept\u001b[0m \u001b[0mKeyError\u001b[0m \u001b[1;32mas\u001b[0m \u001b[0me1\u001b[0m\u001b[1;33m:\u001b[0m\u001b[1;33m\u001b[0m\u001b[0m\n\u001b[0;32m   3120\u001b[0m             \u001b[1;32mif\u001b[0m \u001b[0mlen\u001b[0m\u001b[1;33m(\u001b[0m\u001b[0mself\u001b[0m\u001b[1;33m)\u001b[0m \u001b[1;33m>\u001b[0m \u001b[1;36m0\u001b[0m \u001b[1;32mand\u001b[0m \u001b[0mself\u001b[0m\u001b[1;33m.\u001b[0m\u001b[0minferred_type\u001b[0m \u001b[1;32min\u001b[0m \u001b[1;33m[\u001b[0m\u001b[1;34m'integer'\u001b[0m\u001b[1;33m,\u001b[0m \u001b[1;34m'boolean'\u001b[0m\u001b[1;33m]\u001b[0m\u001b[1;33m:\u001b[0m\u001b[1;33m\u001b[0m\u001b[0m\n",
      "\u001b[1;32mpandas\\_libs\\index.pyx\u001b[0m in \u001b[0;36mpandas._libs.index.IndexEngine.get_value\u001b[1;34m()\u001b[0m\n",
      "\u001b[1;32mpandas\\_libs\\index.pyx\u001b[0m in \u001b[0;36mpandas._libs.index.IndexEngine.get_value\u001b[1;34m()\u001b[0m\n",
      "\u001b[1;32mpandas\\_libs\\index.pyx\u001b[0m in \u001b[0;36mpandas._libs.index.IndexEngine.get_loc\u001b[1;34m()\u001b[0m\n",
      "\u001b[1;32mpandas\\_libs\\hashtable_class_helper.pxi\u001b[0m in \u001b[0;36mpandas._libs.hashtable.Int64HashTable.get_item\u001b[1;34m()\u001b[0m\n",
      "\u001b[1;32mpandas\\_libs\\hashtable_class_helper.pxi\u001b[0m in \u001b[0;36mpandas._libs.hashtable.Int64HashTable.get_item\u001b[1;34m()\u001b[0m\n",
      "\u001b[1;31mKeyError\u001b[0m: -1"
     ]
    }
   ],
   "source": [
    "print(ser[-1])"
   ]
  },
  {
   "cell_type": "code",
   "execution_count": null,
   "metadata": {},
   "outputs": [],
   "source": [
    "#5.2.5 算术和数据对齐<-----这一部分详细请看书,就是两个DataFrame1+DataFrame会出现什么"
   ]
  },
  {
   "cell_type": "code",
   "execution_count": 112,
   "metadata": {},
   "outputs": [
    {
     "output_type": "stream",
     "name": "stdout",
     "text": [
      "             two three  four\nColorado  damnit   NaN   NaN\nNew York     NaN  f**k   NaN\n"
     ]
    }
   ],
   "source": [
    "#填充可以直接用dataframe.loc()方法\n",
    "frame.iloc[1,1]='f**k'\n",
    "frame.iloc[0,0]='damnit'\n",
    "print(frame)"
   ]
  },
  {
   "cell_type": "code",
   "execution_count": 146,
   "metadata": {},
   "outputs": [],
   "source": [
    "#当我们从arr中减去arr[0]时，减法在每一行都进行了操作。这就是所谓的$$$$$广播机制$$$$$$\n",
    "df_1=pd.DataFrame(np.arange(12).reshape(3,4),columns=(['one','two','three','four']),index=(['a','c','m']))"
   ]
  },
  {
   "cell_type": "code",
   "execution_count": 147,
   "metadata": {},
   "outputs": [
    {
     "output_type": "stream",
     "name": "stdout",
     "text": [
      "   one  two  three  four\na    0    1      2     3\nc    4    5      6     7\nm    8    9     10    11\n   one  two  three  four\na    0    1      2     3\nb    4    5      6     7\nc    8    9     10    11\nd   12   13     14    15\n"
     ]
    }
   ],
   "source": [
    "print(df_1)\n",
    "print(data)"
   ]
  },
  {
   "cell_type": "code",
   "execution_count": 152,
   "metadata": {},
   "outputs": [
    {
     "output_type": "execute_result",
     "data": {
      "text/plain": [
       "    one   two  three  four\n",
       "a   0.0   2.0    4.0   6.0\n",
       "b   NaN   NaN    NaN   NaN\n",
       "c  12.0  14.0   16.0  18.0\n",
       "d   NaN   NaN    NaN   NaN\n",
       "m   NaN   NaN    NaN   NaN"
      ],
      "text/html": "<div>\n<style scoped>\n    .dataframe tbody tr th:only-of-type {\n        vertical-align: middle;\n    }\n\n    .dataframe tbody tr th {\n        vertical-align: top;\n    }\n\n    .dataframe thead th {\n        text-align: right;\n    }\n</style>\n<table border=\"1\" class=\"dataframe\">\n  <thead>\n    <tr style=\"text-align: right;\">\n      <th></th>\n      <th>one</th>\n      <th>two</th>\n      <th>three</th>\n      <th>four</th>\n    </tr>\n  </thead>\n  <tbody>\n    <tr>\n      <th>a</th>\n      <td>0.0</td>\n      <td>2.0</td>\n      <td>4.0</td>\n      <td>6.0</td>\n    </tr>\n    <tr>\n      <th>b</th>\n      <td>NaN</td>\n      <td>NaN</td>\n      <td>NaN</td>\n      <td>NaN</td>\n    </tr>\n    <tr>\n      <th>c</th>\n      <td>12.0</td>\n      <td>14.0</td>\n      <td>16.0</td>\n      <td>18.0</td>\n    </tr>\n    <tr>\n      <th>d</th>\n      <td>NaN</td>\n      <td>NaN</td>\n      <td>NaN</td>\n      <td>NaN</td>\n    </tr>\n    <tr>\n      <th>m</th>\n      <td>NaN</td>\n      <td>NaN</td>\n      <td>NaN</td>\n      <td>NaN</td>\n    </tr>\n  </tbody>\n</table>\n</div>"
     },
     "metadata": {},
     "execution_count": 152
    }
   ],
   "source": [
    "df_2=data+df_1\n",
    "df_2"
   ]
  },
  {
   "cell_type": "code",
   "execution_count": 153,
   "metadata": {},
   "outputs": [
    {
     "output_type": "execute_result",
     "data": {
      "text/plain": [
       "    one   two  three  four\n",
       "a   0.0   2.0    4.0   6.0\n",
       "b   4.0   5.0    6.0   7.0\n",
       "c  12.0  14.0   16.0  18.0\n",
       "d  12.0  13.0   14.0  15.0\n",
       "m   8.0   9.0   10.0  11.0"
      ],
      "text/html": "<div>\n<style scoped>\n    .dataframe tbody tr th:only-of-type {\n        vertical-align: middle;\n    }\n\n    .dataframe tbody tr th {\n        vertical-align: top;\n    }\n\n    .dataframe thead th {\n        text-align: right;\n    }\n</style>\n<table border=\"1\" class=\"dataframe\">\n  <thead>\n    <tr style=\"text-align: right;\">\n      <th></th>\n      <th>one</th>\n      <th>two</th>\n      <th>three</th>\n      <th>four</th>\n    </tr>\n  </thead>\n  <tbody>\n    <tr>\n      <th>a</th>\n      <td>0.0</td>\n      <td>2.0</td>\n      <td>4.0</td>\n      <td>6.0</td>\n    </tr>\n    <tr>\n      <th>b</th>\n      <td>4.0</td>\n      <td>5.0</td>\n      <td>6.0</td>\n      <td>7.0</td>\n    </tr>\n    <tr>\n      <th>c</th>\n      <td>12.0</td>\n      <td>14.0</td>\n      <td>16.0</td>\n      <td>18.0</td>\n    </tr>\n    <tr>\n      <th>d</th>\n      <td>12.0</td>\n      <td>13.0</td>\n      <td>14.0</td>\n      <td>15.0</td>\n    </tr>\n    <tr>\n      <th>m</th>\n      <td>8.0</td>\n      <td>9.0</td>\n      <td>10.0</td>\n      <td>11.0</td>\n    </tr>\n  </tbody>\n</table>\n</div>"
     },
     "metadata": {},
     "execution_count": 153
    }
   ],
   "source": [
    "df_1.add(data,fill_value=0)"
   ]
  },
  {
   "cell_type": "code",
   "execution_count": 155,
   "metadata": {},
   "outputs": [
    {
     "output_type": "stream",
     "name": "stdout",
     "text": [
      "        b   d   e\nUtah    0   1   2\nOhio    3   4   5\nTexas   6   7   8\nOregon  9  10  11 \n\n b    0\nd    1\ne    2\nName: Utah, dtype: int32\n"
     ]
    }
   ],
   "source": [
    "frame=pd.DataFrame(np.arange(12).reshape((4,3)),columns=list('bde'),index=['Utah','Ohio','Texas','Oregon'])\n",
    "seri=frame.iloc[0]\n",
    "print(frame,'\\n'*2,seri)"
   ]
  },
  {
   "cell_type": "code",
   "execution_count": 156,
   "metadata": {},
   "outputs": [
    {
     "output_type": "execute_result",
     "data": {
      "text/plain": [
       "        b  d  e\n",
       "Utah    0  0  0\n",
       "Ohio    3  3  3\n",
       "Texas   6  6  6\n",
       "Oregon  9  9  9"
      ],
      "text/html": "<div>\n<style scoped>\n    .dataframe tbody tr th:only-of-type {\n        vertical-align: middle;\n    }\n\n    .dataframe tbody tr th {\n        vertical-align: top;\n    }\n\n    .dataframe thead th {\n        text-align: right;\n    }\n</style>\n<table border=\"1\" class=\"dataframe\">\n  <thead>\n    <tr style=\"text-align: right;\">\n      <th></th>\n      <th>b</th>\n      <th>d</th>\n      <th>e</th>\n    </tr>\n  </thead>\n  <tbody>\n    <tr>\n      <th>Utah</th>\n      <td>0</td>\n      <td>0</td>\n      <td>0</td>\n    </tr>\n    <tr>\n      <th>Ohio</th>\n      <td>3</td>\n      <td>3</td>\n      <td>3</td>\n    </tr>\n    <tr>\n      <th>Texas</th>\n      <td>6</td>\n      <td>6</td>\n      <td>6</td>\n    </tr>\n    <tr>\n      <th>Oregon</th>\n      <td>9</td>\n      <td>9</td>\n      <td>9</td>\n    </tr>\n  </tbody>\n</table>\n</div>"
     },
     "metadata": {},
     "execution_count": 156
    }
   ],
   "source": [
    "frame-seri"
   ]
  },
  {
   "cell_type": "code",
   "execution_count": 157,
   "metadata": {},
   "outputs": [
    {
     "output_type": "execute_result",
     "data": {
      "text/plain": [
       "         b     d     e   f\n",
       "Utah   NaN   1.0   3.0 NaN\n",
       "Ohio   NaN   4.0   6.0 NaN\n",
       "Texas  NaN   7.0   9.0 NaN\n",
       "Oregon NaN  10.0  12.0 NaN"
      ],
      "text/html": "<div>\n<style scoped>\n    .dataframe tbody tr th:only-of-type {\n        vertical-align: middle;\n    }\n\n    .dataframe tbody tr th {\n        vertical-align: top;\n    }\n\n    .dataframe thead th {\n        text-align: right;\n    }\n</style>\n<table border=\"1\" class=\"dataframe\">\n  <thead>\n    <tr style=\"text-align: right;\">\n      <th></th>\n      <th>b</th>\n      <th>d</th>\n      <th>e</th>\n      <th>f</th>\n    </tr>\n  </thead>\n  <tbody>\n    <tr>\n      <th>Utah</th>\n      <td>NaN</td>\n      <td>1.0</td>\n      <td>3.0</td>\n      <td>NaN</td>\n    </tr>\n    <tr>\n      <th>Ohio</th>\n      <td>NaN</td>\n      <td>4.0</td>\n      <td>6.0</td>\n      <td>NaN</td>\n    </tr>\n    <tr>\n      <th>Texas</th>\n      <td>NaN</td>\n      <td>7.0</td>\n      <td>9.0</td>\n      <td>NaN</td>\n    </tr>\n    <tr>\n      <th>Oregon</th>\n      <td>NaN</td>\n      <td>10.0</td>\n      <td>12.0</td>\n      <td>NaN</td>\n    </tr>\n  </tbody>\n</table>\n</div>"
     },
     "metadata": {},
     "execution_count": 157
    }
   ],
   "source": [
    "seri_2=pd.Series(range(3),index=['d','e','f'])\n",
    "frame+seri_2"
   ]
  },
  {
   "cell_type": "code",
   "execution_count": null,
   "metadata": {},
   "outputs": [],
   "source": [
    "#5.2.6 函数应用和映射\n",
    "####关于apply()函数和匿名函数的应用略\n",
    "#很重要，但是我真的累了"
   ]
  },
  {
   "cell_type": "code",
   "execution_count": null,
   "metadata": {},
   "outputs": [],
   "source": [
    "#5.2.7 排序和排名\n",
    "#排序有根据标签排序和根据值排序两种方式"
   ]
  },
  {
   "cell_type": "code",
   "execution_count": 162,
   "metadata": {},
   "outputs": [
    {
     "output_type": "stream",
     "name": "stdout",
     "text": [
      "a    1\nb    2\nc    3\nd    0\ndtype: int64 \n\n\n       a  b  c  d\nthree  2  1  3  0\none    6  5  7  4 \n\n\n       d  b  a  c\none    4  5  6  7\nthree  0  1  2  3 \n\n\n       d  c  b  a\nthree  0  3  1  2\none    4  7  5  6 \n\n\n"
     ]
    }
   ],
   "source": [
    "#根据标签排序--->sort_index()方法\n",
    "obj=pd.Series(range(4),index=['d','a','b','c'])\n",
    "print(obj.sort_index(),'\\n'*2)\n",
    "frame3=pd.DataFrame(np.arange(8).reshape(2,4),index=['three','one'],columns=['d','b','a','c'])\n",
    "print(frame3.sort_index(axis=1),'\\n'*2)\n",
    "print(frame3.sort_index(axis=0),'\\n'*2)\n",
    "print(frame3.sort_index(axis=1,ascending=False),'\\n'*2)"
   ]
  },
  {
   "cell_type": "code",
   "execution_count": 174,
   "metadata": {},
   "outputs": [
    {
     "output_type": "stream",
     "name": "stdout",
     "text": [
      "1    -7\n2    -3\n0     4\n3    21\ndtype: int64 \n\n   b  a\n1  7 -3\n2 -3 -3\n3  2  4\n0  4  6 \n\n   b  a\n2 -3 -3\n1  7 -3\n3  2  4\n0  4  6\n"
     ]
    }
   ],
   "source": [
    "#根据值进行排序--->sort_values()方法\n",
    "obj=pd.Series([4,-7,-3,21])\n",
    "print(obj.sort_values(),'\\n')\n",
    "frame4=pd.DataFrame({'b':[4,7,-3,2],'a':[6,-3,-3,4]})\n",
    "print(frame4.sort_values(by='a'),'\\n')\n",
    "print(frame4.sort_values(by=['a','b']))"
   ]
  },
  {
   "cell_type": "code",
   "execution_count": 177,
   "metadata": {},
   "outputs": [
    {
     "output_type": "execute_result",
     "data": {
      "text/plain": [
       "True"
      ]
     },
     "metadata": {},
     "execution_count": 177
    }
   ],
   "source": [
    "#5.2.8 含有重复标签的轴索引,索引的is_unique属性可以告诉你它的标签是否唯一\n",
    "obj.index.is_unique"
   ]
  },
  {
   "cell_type": "code",
   "execution_count": null,
   "metadata": {},
   "outputs": [],
   "source": []
  }
 ]
}