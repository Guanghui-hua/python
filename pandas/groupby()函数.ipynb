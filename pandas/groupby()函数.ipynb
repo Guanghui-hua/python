{
 "metadata": {
  "language_info": {
   "codemirror_mode": {
    "name": "ipython",
    "version": 3
   },
   "file_extension": ".py",
   "mimetype": "text/x-python",
   "name": "python",
   "nbconvert_exporter": "python",
   "pygments_lexer": "ipython3",
   "version": "3.7.0-final"
  },
  "orig_nbformat": 2,
  "kernelspec": {
   "name": "python370jvsc74a57bd096eb50e1d44aed467dc8f759cb08c32fbfa9babcf79c554e2d0e5feb04653a10",
   "display_name": "Python 3.7.0 64-bit"
  }
 },
 "nbformat": 4,
 "nbformat_minor": 2,
 "cells": [
  {
   "cell_type": "code",
   "execution_count": 50,
   "metadata": {},
   "outputs": [],
   "source": [
    "import pandas as pd\n",
    "import numpy as np"
   ]
  },
  {
   "cell_type": "code",
   "execution_count": 51,
   "metadata": {},
   "outputs": [
    {
     "output_type": "execute_result",
     "data": {
      "text/plain": [
       "dict"
      ]
     },
     "metadata": {},
     "execution_count": 51
    }
   ],
   "source": [
    "chart={'key1': ['a','a','b','b','a'],\n",
    "'key2': ['one','two','one','two','one'],\n",
    "'data1': np.random.permutation(5),\n",
    "'data2': np.random.permutation(5)}\n",
    "type(chart)"
   ]
  },
  {
   "cell_type": "code",
   "execution_count": 52,
   "metadata": {},
   "outputs": [
    {
     "output_type": "execute_result",
     "data": {
      "text/plain": [
       "  key1 key2 data1 data2\n",
       "1  NaN  NaN   NaN   NaN\n",
       "2  NaN  NaN   NaN   NaN\n",
       "3  NaN  NaN   NaN   NaN\n",
       "4  NaN  NaN   NaN   NaN\n",
       "5  NaN  NaN   NaN   NaN"
      ],
      "text/html": "<div>\n<style scoped>\n    .dataframe tbody tr th:only-of-type {\n        vertical-align: middle;\n    }\n\n    .dataframe tbody tr th {\n        vertical-align: top;\n    }\n\n    .dataframe thead th {\n        text-align: right;\n    }\n</style>\n<table border=\"1\" class=\"dataframe\">\n  <thead>\n    <tr style=\"text-align: right;\">\n      <th></th>\n      <th>key1</th>\n      <th>key2</th>\n      <th>data1</th>\n      <th>data2</th>\n    </tr>\n  </thead>\n  <tbody>\n    <tr>\n      <th>1</th>\n      <td>NaN</td>\n      <td>NaN</td>\n      <td>NaN</td>\n      <td>NaN</td>\n    </tr>\n    <tr>\n      <th>2</th>\n      <td>NaN</td>\n      <td>NaN</td>\n      <td>NaN</td>\n      <td>NaN</td>\n    </tr>\n    <tr>\n      <th>3</th>\n      <td>NaN</td>\n      <td>NaN</td>\n      <td>NaN</td>\n      <td>NaN</td>\n    </tr>\n    <tr>\n      <th>4</th>\n      <td>NaN</td>\n      <td>NaN</td>\n      <td>NaN</td>\n      <td>NaN</td>\n    </tr>\n    <tr>\n      <th>5</th>\n      <td>NaN</td>\n      <td>NaN</td>\n      <td>NaN</td>\n      <td>NaN</td>\n    </tr>\n  </tbody>\n</table>\n</div>"
     },
     "metadata": {},
     "execution_count": 52
    }
   ],
   "source": [
    "# 使用字典来给列表传值有错误\n",
    "df=pd.DataFrame(index=[1,2,3,4,5],columns=chart)  \n",
    "df"
   ]
  },
  {
   "cell_type": "code",
   "execution_count": 55,
   "metadata": {},
   "outputs": [
    {
     "output_type": "execute_result",
     "data": {
      "text/plain": [
       "  key1 key2  data1  data2\n",
       "0    a  one      1      4\n",
       "1    a  two      0      0\n",
       "2    b  one      4      1\n",
       "3    b  two      2      2\n",
       "4    a  one      3      3"
      ],
      "text/html": "<div>\n<style scoped>\n    .dataframe tbody tr th:only-of-type {\n        vertical-align: middle;\n    }\n\n    .dataframe tbody tr th {\n        vertical-align: top;\n    }\n\n    .dataframe thead th {\n        text-align: right;\n    }\n</style>\n<table border=\"1\" class=\"dataframe\">\n  <thead>\n    <tr style=\"text-align: right;\">\n      <th></th>\n      <th>key1</th>\n      <th>key2</th>\n      <th>data1</th>\n      <th>data2</th>\n    </tr>\n  </thead>\n  <tbody>\n    <tr>\n      <th>0</th>\n      <td>a</td>\n      <td>one</td>\n      <td>1</td>\n      <td>4</td>\n    </tr>\n    <tr>\n      <th>1</th>\n      <td>a</td>\n      <td>two</td>\n      <td>0</td>\n      <td>0</td>\n    </tr>\n    <tr>\n      <th>2</th>\n      <td>b</td>\n      <td>one</td>\n      <td>4</td>\n      <td>1</td>\n    </tr>\n    <tr>\n      <th>3</th>\n      <td>b</td>\n      <td>two</td>\n      <td>2</td>\n      <td>2</td>\n    </tr>\n    <tr>\n      <th>4</th>\n      <td>a</td>\n      <td>one</td>\n      <td>3</td>\n      <td>3</td>\n    </tr>\n  </tbody>\n</table>\n</div>"
     },
     "metadata": {},
     "execution_count": 55
    }
   ],
   "source": [
    "df1=pd.DataFrame(chart)\n",
    "df1"
   ]
  },
  {
   "cell_type": "code",
   "execution_count": 56,
   "metadata": {},
   "outputs": [
    {
     "output_type": "execute_result",
     "data": {
      "text/plain": [
       "       key1 key2  data1  data2\n",
       "index1    a  one      1      4\n",
       "index2    a  two      0      0\n",
       "index3    b  one      4      1\n",
       "index4    b  two      2      2\n",
       "index5    a  one      3      3"
      ],
      "text/html": "<div>\n<style scoped>\n    .dataframe tbody tr th:only-of-type {\n        vertical-align: middle;\n    }\n\n    .dataframe tbody tr th {\n        vertical-align: top;\n    }\n\n    .dataframe thead th {\n        text-align: right;\n    }\n</style>\n<table border=\"1\" class=\"dataframe\">\n  <thead>\n    <tr style=\"text-align: right;\">\n      <th></th>\n      <th>key1</th>\n      <th>key2</th>\n      <th>data1</th>\n      <th>data2</th>\n    </tr>\n  </thead>\n  <tbody>\n    <tr>\n      <th>index1</th>\n      <td>a</td>\n      <td>one</td>\n      <td>1</td>\n      <td>4</td>\n    </tr>\n    <tr>\n      <th>index2</th>\n      <td>a</td>\n      <td>two</td>\n      <td>0</td>\n      <td>0</td>\n    </tr>\n    <tr>\n      <th>index3</th>\n      <td>b</td>\n      <td>one</td>\n      <td>4</td>\n      <td>1</td>\n    </tr>\n    <tr>\n      <th>index4</th>\n      <td>b</td>\n      <td>two</td>\n      <td>2</td>\n      <td>2</td>\n    </tr>\n    <tr>\n      <th>index5</th>\n      <td>a</td>\n      <td>one</td>\n      <td>3</td>\n      <td>3</td>\n    </tr>\n  </tbody>\n</table>\n</div>"
     },
     "metadata": {},
     "execution_count": 56
    }
   ],
   "source": [
    "df1.index=['index1','index2','index3','index4','index5']\n",
    "df1"
   ]
  },
  {
   "cell_type": "code",
   "execution_count": 67,
   "metadata": {},
   "outputs": [
    {
     "output_type": "execute_result",
     "data": {
      "text/plain": [
       "key1\n",
       "a    1.333333\n",
       "b    3.000000\n",
       "Name: data1, dtype: float64"
      ]
     },
     "metadata": {},
     "execution_count": 67
    }
   ],
   "source": [
    "l=df1['data1'].groupby(df1['key1'])\n",
    "l.mean()"
   ]
  },
  {
   "cell_type": "code",
   "execution_count": 68,
   "metadata": {},
   "outputs": [
    {
     "output_type": "execute_result",
     "data": {
      "text/plain": [
       "key1\n",
       "a    3\n",
       "b    2\n",
       "dtype: int64"
      ]
     },
     "metadata": {},
     "execution_count": 68
    }
   ],
   "source": [
    "l=df1.groupby(df1['key1'])\n",
    "l.size()"
   ]
  },
  {
   "cell_type": "code",
   "execution_count": null,
   "metadata": {},
   "outputs": [],
   "source": []
  }
 ]
}